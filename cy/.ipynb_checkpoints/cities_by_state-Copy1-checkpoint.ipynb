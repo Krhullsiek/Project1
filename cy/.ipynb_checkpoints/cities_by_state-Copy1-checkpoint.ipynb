{
 "cells": [
  {
   "cell_type": "code",
   "execution_count": 1,
   "metadata": {},
   "outputs": [],
   "source": [
    "import pandas as pd\n",
    "import json\n",
    "import numpy\n",
    "\n",
    "city_json = json.load(open('city_data.json'))\n",
    "\n",
    "\n"
   ]
  },
  {
   "cell_type": "code",
   "execution_count": 2,
   "metadata": {},
   "outputs": [
    {
     "data": {
      "text/plain": [
       "('Minerva Park', 'OH', 1318, [-82.94379, 40.07645])"
      ]
     },
     "execution_count": 2,
     "metadata": {},
     "output_type": "execute_result"
    }
   ],
   "source": [
    "x = (city_json[0]['fields']['name'],\n",
    "    city_json[0]['fields']['admin1_code'],\n",
    "    city_json[0]['fields']['population'],\n",
    "    city_json[0]['geometry']['coordinates'])\n",
    "\n",
    "x"
   ]
  },
  {
   "cell_type": "code",
   "execution_count": null,
   "metadata": {},
   "outputs": [],
   "source": [
    "city_df = pd.DataFrame()\n",
    "index = 0\n",
    "\n",
    "for dictionary in city_json:\n",
    "    city_df.loc[index,'city'] = dictionary['fields']['name']\n",
    "    city_df.loc[index,'state'] = dictionary['fields']['admin1_code']\n",
    "    city_df.loc[index,\"population\"] = dictionary['fields']['population']\n",
    "    city_df.loc[index,'lng'] =(dictionary['geometry']['coordinates'][0])\n",
    "    city_df.loc[index,'lat'] =(dictionary['geometry']['coordinates'][1])\n",
    "    index+=1\n",
    "\n",
    "city_df\n"
   ]
  },
  {
   "cell_type": "code",
   "execution_count": null,
   "metadata": {},
   "outputs": [],
   "source": [
    "city_df = city_df.groupby(['state','city','lng','lat'])['population'].max()\n"
   ]
  },
  {
   "cell_type": "code",
   "execution_count": null,
   "metadata": {},
   "outputs": [],
   "source": [
    "qwerty = pd.DataFrame(city_df)\n",
    "big = {}\n",
    "for i, col in qwerty.iterrows():\n",
    "    if i[0] not in big:\n",
    "        big[i[0]]=[i[1], i[2],i[3]], col[0]\n",
    "    elif i[0] in big:\n",
    "        if big[i[0]][1] < col[0]:\n",
    "            big[i[0]]=[i[1], i[2],i[3]], col[0]\n",
    "\n",
    "big\n",
    "with open(\"biggest_cities_per_state.json\", \"w\") as outfile: \n",
    "    json.dump(big,outfile )"
   ]
  },
  {
   "cell_type": "code",
   "execution_count": null,
   "metadata": {
    "scrolled": true
   },
   "outputs": [],
   "source": [
    "big_city_json = json.load(open(\"biggest_cities_per_state.json\"))\n",
    "big_city_json\n"
   ]
  },
  {
   "cell_type": "code",
   "execution_count": null,
   "metadata": {},
   "outputs": [],
   "source": [
    "x = (city_json[0]['fields']['name'],\n",
    "    city_json[0]['fields']['admin1_code'],\n",
    "    city_json[0]['fields']['population'],\n",
    "    city_json[0]['geometry']['coordinates'])\n",
    "\n",
    "x"
   ]
  },
  {
   "cell_type": "code",
   "execution_count": null,
   "metadata": {},
   "outputs": [],
   "source": [
    "\n",
    "big_city_df = pd.DataFrame()\n",
    "index = 0\n",
    "\n",
    "for dictionary in big_city_json:\n",
    "    big_city_df.loc[index,'city'] = dictionary['fields']['name']\n",
    "    big_city_df.loc[index,'state'] = dictionary['fields']['admin1_code']\n",
    "    big_city_df.loc[index,\"population\"] = dictionary['fields']['population']\n",
    "    big_city_df.loc[index,'lng'] =(dictionary['geometry']['coordinates'][0])\n",
    "    big_city_df.loc[index,'lat'] =(dictionary['geometry']['coordinates'][1])\n",
    "    index+=1\n",
    "\n",
    "big_city_df"
   ]
  },
  {
   "cell_type": "code",
   "execution_count": null,
   "metadata": {},
   "outputs": [],
   "source": []
  }
 ],
 "metadata": {
  "anaconda-cloud": {},
  "kernel_info": {
   "name": "python3"
  },
  "kernelspec": {
   "display_name": "Python 3",
   "language": "python",
   "name": "python3"
  },
  "language_info": {
   "codemirror_mode": {
    "name": "ipython",
    "version": 3
   },
   "file_extension": ".py",
   "mimetype": "text/x-python",
   "name": "python",
   "nbconvert_exporter": "python",
   "pygments_lexer": "ipython3",
   "version": "3.8.5"
  },
  "latex_envs": {
   "LaTeX_envs_menu_present": true,
   "autoclose": false,
   "autocomplete": true,
   "bibliofile": "biblio.bib",
   "cite_by": "apalike",
   "current_citInitial": 1,
   "eqLabelWithNumbers": true,
   "eqNumInitial": 1,
   "hotkeys": {
    "equation": "Ctrl-E",
    "itemize": "Ctrl-I"
   },
   "labels_anchors": false,
   "latex_user_defs": false,
   "report_style_numbering": false,
   "user_envs_cfg": false
  },
  "nteract": {
   "version": "0.12.3"
  }
 },
 "nbformat": 4,
 "nbformat_minor": 2
}
