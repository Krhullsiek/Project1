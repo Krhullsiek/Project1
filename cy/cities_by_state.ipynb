{
 "cells": [
  {
   "cell_type": "code",
   "execution_count": 501,
   "metadata": {},
   "outputs": [],
   "source": [
    "import pandas as pd\n",
    "import json\n",
    "import numpy\n",
    "\n",
    "city_json = json.load(open('city_data.json'))\n",
    "\n",
    "\n"
   ]
  },
  {
   "cell_type": "code",
   "execution_count": 502,
   "metadata": {},
   "outputs": [
    {
     "data": {
      "text/plain": [
       "('Minerva Park', 'OH', 1318, [-82.94379, 40.07645])"
      ]
     },
     "execution_count": 502,
     "metadata": {},
     "output_type": "execute_result"
    }
   ],
   "source": [
    "x = (city_json[0]['fields']['name'],\n",
    "    city_json[0]['fields']['admin1_code'],\n",
    "    city_json[0]['fields']['population'],\n",
    "    city_json[0]['geometry']['coordinates'])\n",
    "\n",
    "x"
   ]
  },
  {
   "cell_type": "code",
   "execution_count": 503,
   "metadata": {},
   "outputs": [
    {
     "data": {
      "text/html": [
       "<div>\n",
       "<style scoped>\n",
       "    .dataframe tbody tr th:only-of-type {\n",
       "        vertical-align: middle;\n",
       "    }\n",
       "\n",
       "    .dataframe tbody tr th {\n",
       "        vertical-align: top;\n",
       "    }\n",
       "\n",
       "    .dataframe thead th {\n",
       "        text-align: right;\n",
       "    }\n",
       "</style>\n",
       "<table border=\"1\" class=\"dataframe\">\n",
       "  <thead>\n",
       "    <tr style=\"text-align: right;\">\n",
       "      <th></th>\n",
       "      <th>city</th>\n",
       "      <th>state</th>\n",
       "      <th>population</th>\n",
       "      <th>lng</th>\n",
       "      <th>lat</th>\n",
       "    </tr>\n",
       "  </thead>\n",
       "  <tbody>\n",
       "    <tr>\n",
       "      <th>0</th>\n",
       "      <td>Minerva Park</td>\n",
       "      <td>OH</td>\n",
       "      <td>1318.0</td>\n",
       "      <td>-82.94379</td>\n",
       "      <td>40.07645</td>\n",
       "    </tr>\n",
       "    <tr>\n",
       "      <th>1</th>\n",
       "      <td>Piqua</td>\n",
       "      <td>OH</td>\n",
       "      <td>20790.0</td>\n",
       "      <td>-84.24244</td>\n",
       "      <td>40.14477</td>\n",
       "    </tr>\n",
       "    <tr>\n",
       "      <th>2</th>\n",
       "      <td>Portage Lakes</td>\n",
       "      <td>OH</td>\n",
       "      <td>6968.0</td>\n",
       "      <td>-81.52706</td>\n",
       "      <td>41.00728</td>\n",
       "    </tr>\n",
       "    <tr>\n",
       "      <th>3</th>\n",
       "      <td>Reminderville</td>\n",
       "      <td>OH</td>\n",
       "      <td>3976.0</td>\n",
       "      <td>-81.39511</td>\n",
       "      <td>41.34589</td>\n",
       "    </tr>\n",
       "    <tr>\n",
       "      <th>4</th>\n",
       "      <td>Toronto</td>\n",
       "      <td>OH</td>\n",
       "      <td>4882.0</td>\n",
       "      <td>-80.60091</td>\n",
       "      <td>40.46423</td>\n",
       "    </tr>\n",
       "    <tr>\n",
       "      <th>...</th>\n",
       "      <td>...</td>\n",
       "      <td>...</td>\n",
       "      <td>...</td>\n",
       "      <td>...</td>\n",
       "      <td>...</td>\n",
       "    </tr>\n",
       "    <tr>\n",
       "      <th>16724</th>\n",
       "      <td>Spring Valley Lake</td>\n",
       "      <td>CA</td>\n",
       "      <td>8220.0</td>\n",
       "      <td>-117.26832</td>\n",
       "      <td>34.49364</td>\n",
       "    </tr>\n",
       "    <tr>\n",
       "      <th>16725</th>\n",
       "      <td>Hide-A-Way Lake</td>\n",
       "      <td>MS</td>\n",
       "      <td>1859.0</td>\n",
       "      <td>-89.64020</td>\n",
       "      <td>30.56492</td>\n",
       "    </tr>\n",
       "    <tr>\n",
       "      <th>16726</th>\n",
       "      <td>Woodstock</td>\n",
       "      <td>ME</td>\n",
       "      <td>1263.0</td>\n",
       "      <td>-70.60849</td>\n",
       "      <td>44.37494</td>\n",
       "    </tr>\n",
       "    <tr>\n",
       "      <th>16727</th>\n",
       "      <td>Scotts Mill</td>\n",
       "      <td>NC</td>\n",
       "      <td>2400.0</td>\n",
       "      <td>-78.88390</td>\n",
       "      <td>35.72666</td>\n",
       "    </tr>\n",
       "    <tr>\n",
       "      <th>16728</th>\n",
       "      <td>New Century, KS</td>\n",
       "      <td>KS</td>\n",
       "      <td>1072.0</td>\n",
       "      <td>-94.89971</td>\n",
       "      <td>38.82253</td>\n",
       "    </tr>\n",
       "  </tbody>\n",
       "</table>\n",
       "<p>16729 rows × 5 columns</p>\n",
       "</div>"
      ],
      "text/plain": [
       "                     city state  population        lng       lat\n",
       "0            Minerva Park    OH      1318.0  -82.94379  40.07645\n",
       "1                   Piqua    OH     20790.0  -84.24244  40.14477\n",
       "2           Portage Lakes    OH      6968.0  -81.52706  41.00728\n",
       "3           Reminderville    OH      3976.0  -81.39511  41.34589\n",
       "4                 Toronto    OH      4882.0  -80.60091  40.46423\n",
       "...                   ...   ...         ...        ...       ...\n",
       "16724  Spring Valley Lake    CA      8220.0 -117.26832  34.49364\n",
       "16725     Hide-A-Way Lake    MS      1859.0  -89.64020  30.56492\n",
       "16726           Woodstock    ME      1263.0  -70.60849  44.37494\n",
       "16727         Scotts Mill    NC      2400.0  -78.88390  35.72666\n",
       "16728     New Century, KS    KS      1072.0  -94.89971  38.82253\n",
       "\n",
       "[16729 rows x 5 columns]"
      ]
     },
     "execution_count": 503,
     "metadata": {},
     "output_type": "execute_result"
    }
   ],
   "source": [
    "city_df = pd.DataFrame()\n",
    "index = 0\n",
    "\n",
    "for dictionary in city_json:\n",
    "    city_df.loc[index,'city'] = dictionary['fields']['name']\n",
    "    city_df.loc[index,'state'] = dictionary['fields']['admin1_code']\n",
    "    city_df.loc[index,\"population\"] = dictionary['fields']['population']\n",
    "    city_df.loc[index,'lng'] =(dictionary['geometry']['coordinates'][0])\n",
    "    city_df.loc[index,'lat'] =(dictionary['geometry']['coordinates'][1])\n",
    "    index+=1\n",
    "\n",
    "city_df\n"
   ]
  },
  {
   "cell_type": "code",
   "execution_count": 504,
   "metadata": {},
   "outputs": [],
   "source": [
    "city_df = city_df.groupby(['state','city','lng','lat'])['population'].max()\n"
   ]
  },
  {
   "cell_type": "code",
   "execution_count": 510,
   "metadata": {},
   "outputs": [],
   "source": [
    "qwerty = pd.DataFrame(city_df)\n",
    "big = {}\n",
    "for i, col in qwerty.iterrows():\n",
    "    if i[0] not in big:\n",
    "        big[i[0]]=[i[1], i[2],i[3]], col[0]\n",
    "    elif i[0] in big:\n",
    "        if big[i[0]][1] < col[0]:\n",
    "            big[i[0]]=[i[1], i[2],i[3]], col[0]\n",
    "\n",
    "big\n",
    "with open(\"biggest_cities_per_state.json\", \"w\") as outfile: \n",
    "    json.dump(big,outfile )"
   ]
  }
 ],
 "metadata": {
  "anaconda-cloud": {},
  "kernel_info": {
   "name": "python3"
  },
  "kernelspec": {
   "display_name": "Python 3",
   "language": "python",
   "name": "python3"
  },
  "language_info": {
   "codemirror_mode": {
    "name": "ipython",
    "version": 3
   },
   "file_extension": ".py",
   "mimetype": "text/x-python",
   "name": "python",
   "nbconvert_exporter": "python",
   "pygments_lexer": "ipython3",
   "version": "3.8.5"
  },
  "latex_envs": {
   "LaTeX_envs_menu_present": true,
   "autoclose": false,
   "autocomplete": true,
   "bibliofile": "biblio.bib",
   "cite_by": "apalike",
   "current_citInitial": 1,
   "eqLabelWithNumbers": true,
   "eqNumInitial": 1,
   "hotkeys": {
    "equation": "Ctrl-E",
    "itemize": "Ctrl-I"
   },
   "labels_anchors": false,
   "latex_user_defs": false,
   "report_style_numbering": false,
   "user_envs_cfg": false
  },
  "nteract": {
   "version": "0.12.3"
  }
 },
 "nbformat": 4,
 "nbformat_minor": 2
}
