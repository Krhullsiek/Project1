{
 "cells": [
  {
   "cell_type": "code",
   "execution_count": 10,
   "metadata": {},
   "outputs": [],
   "source": [
    "import pandas as pd\n",
    "import json\n",
    "import numpy\n",
    "import csv\n",
    "city_json = json.load(open('city_data.json'))\n",
    "\n",
    "\n"
   ]
  },
  {
   "cell_type": "code",
   "execution_count": 4,
   "metadata": {},
   "outputs": [
    {
     "data": {
      "text/plain": [
       "('Minerva Park', 'OH', 1318, [-82.94379, 40.07645])"
      ]
     },
     "execution_count": 4,
     "metadata": {},
     "output_type": "execute_result"
    }
   ],
   "source": [
    "x = (city_json[0]['fields']['name'],\n",
    "    city_json[0]['fields']['admin1_code'],\n",
    "    city_json[0]['fields']['population'],\n",
    "    city_json[0]['geometry']['coordinates'])\n",
    "\n",
    "x"
   ]
  },
  {
   "cell_type": "code",
   "execution_count": 5,
   "metadata": {},
   "outputs": [
    {
     "data": {
      "text/html": [
       "<div>\n",
       "<style scoped>\n",
       "    .dataframe tbody tr th:only-of-type {\n",
       "        vertical-align: middle;\n",
       "    }\n",
       "\n",
       "    .dataframe tbody tr th {\n",
       "        vertical-align: top;\n",
       "    }\n",
       "\n",
       "    .dataframe thead th {\n",
       "        text-align: right;\n",
       "    }\n",
       "</style>\n",
       "<table border=\"1\" class=\"dataframe\">\n",
       "  <thead>\n",
       "    <tr style=\"text-align: right;\">\n",
       "      <th></th>\n",
       "      <th>city</th>\n",
       "      <th>state</th>\n",
       "      <th>population</th>\n",
       "      <th>lng</th>\n",
       "      <th>lat</th>\n",
       "    </tr>\n",
       "  </thead>\n",
       "  <tbody>\n",
       "    <tr>\n",
       "      <th>0</th>\n",
       "      <td>Minerva Park</td>\n",
       "      <td>OH</td>\n",
       "      <td>1318.0</td>\n",
       "      <td>-82.94379</td>\n",
       "      <td>40.07645</td>\n",
       "    </tr>\n",
       "    <tr>\n",
       "      <th>1</th>\n",
       "      <td>Piqua</td>\n",
       "      <td>OH</td>\n",
       "      <td>20790.0</td>\n",
       "      <td>-84.24244</td>\n",
       "      <td>40.14477</td>\n",
       "    </tr>\n",
       "    <tr>\n",
       "      <th>2</th>\n",
       "      <td>Portage Lakes</td>\n",
       "      <td>OH</td>\n",
       "      <td>6968.0</td>\n",
       "      <td>-81.52706</td>\n",
       "      <td>41.00728</td>\n",
       "    </tr>\n",
       "    <tr>\n",
       "      <th>3</th>\n",
       "      <td>Reminderville</td>\n",
       "      <td>OH</td>\n",
       "      <td>3976.0</td>\n",
       "      <td>-81.39511</td>\n",
       "      <td>41.34589</td>\n",
       "    </tr>\n",
       "    <tr>\n",
       "      <th>4</th>\n",
       "      <td>Toronto</td>\n",
       "      <td>OH</td>\n",
       "      <td>4882.0</td>\n",
       "      <td>-80.60091</td>\n",
       "      <td>40.46423</td>\n",
       "    </tr>\n",
       "    <tr>\n",
       "      <th>...</th>\n",
       "      <td>...</td>\n",
       "      <td>...</td>\n",
       "      <td>...</td>\n",
       "      <td>...</td>\n",
       "      <td>...</td>\n",
       "    </tr>\n",
       "    <tr>\n",
       "      <th>16724</th>\n",
       "      <td>Spring Valley Lake</td>\n",
       "      <td>CA</td>\n",
       "      <td>8220.0</td>\n",
       "      <td>-117.26832</td>\n",
       "      <td>34.49364</td>\n",
       "    </tr>\n",
       "    <tr>\n",
       "      <th>16725</th>\n",
       "      <td>Hide-A-Way Lake</td>\n",
       "      <td>MS</td>\n",
       "      <td>1859.0</td>\n",
       "      <td>-89.64020</td>\n",
       "      <td>30.56492</td>\n",
       "    </tr>\n",
       "    <tr>\n",
       "      <th>16726</th>\n",
       "      <td>Woodstock</td>\n",
       "      <td>ME</td>\n",
       "      <td>1263.0</td>\n",
       "      <td>-70.60849</td>\n",
       "      <td>44.37494</td>\n",
       "    </tr>\n",
       "    <tr>\n",
       "      <th>16727</th>\n",
       "      <td>Scotts Mill</td>\n",
       "      <td>NC</td>\n",
       "      <td>2400.0</td>\n",
       "      <td>-78.88390</td>\n",
       "      <td>35.72666</td>\n",
       "    </tr>\n",
       "    <tr>\n",
       "      <th>16728</th>\n",
       "      <td>New Century, KS</td>\n",
       "      <td>KS</td>\n",
       "      <td>1072.0</td>\n",
       "      <td>-94.89971</td>\n",
       "      <td>38.82253</td>\n",
       "    </tr>\n",
       "  </tbody>\n",
       "</table>\n",
       "<p>16729 rows × 5 columns</p>\n",
       "</div>"
      ],
      "text/plain": [
       "                     city state  population        lng       lat\n",
       "0            Minerva Park    OH      1318.0  -82.94379  40.07645\n",
       "1                   Piqua    OH     20790.0  -84.24244  40.14477\n",
       "2           Portage Lakes    OH      6968.0  -81.52706  41.00728\n",
       "3           Reminderville    OH      3976.0  -81.39511  41.34589\n",
       "4                 Toronto    OH      4882.0  -80.60091  40.46423\n",
       "...                   ...   ...         ...        ...       ...\n",
       "16724  Spring Valley Lake    CA      8220.0 -117.26832  34.49364\n",
       "16725     Hide-A-Way Lake    MS      1859.0  -89.64020  30.56492\n",
       "16726           Woodstock    ME      1263.0  -70.60849  44.37494\n",
       "16727         Scotts Mill    NC      2400.0  -78.88390  35.72666\n",
       "16728     New Century, KS    KS      1072.0  -94.89971  38.82253\n",
       "\n",
       "[16729 rows x 5 columns]"
      ]
     },
     "execution_count": 5,
     "metadata": {},
     "output_type": "execute_result"
    }
   ],
   "source": [
    "city_df = pd.DataFrame()\n",
    "index = 0\n",
    "\n",
    "for dictionary in city_json:\n",
    "    city_df.loc[index,'city'] = dictionary['fields']['name']\n",
    "    city_df.loc[index,'state'] = dictionary['fields']['admin1_code']\n",
    "    city_df.loc[index,\"population\"] = dictionary['fields']['population']\n",
    "    city_df.loc[index,'lng'] =(dictionary['geometry']['coordinates'][0])\n",
    "    city_df.loc[index,'lat'] =(dictionary['geometry']['coordinates'][1])\n",
    "    index+=1\n",
    "\n",
    "city_df\n"
   ]
  },
  {
   "cell_type": "code",
   "execution_count": 6,
   "metadata": {},
   "outputs": [],
   "source": [
    "city_df = city_df.groupby(['state','city','lng','lat'])['population'].max()\n"
   ]
  },
  {
   "cell_type": "code",
   "execution_count": 7,
   "metadata": {},
   "outputs": [],
   "source": [
    "qwerty = pd.DataFrame(city_df)\n",
    "big = {}\n",
    "for i, col in qwerty.iterrows():\n",
    "    if i[0] not in big:\n",
    "        big[i[0]]=[i[1], i[2],i[3]], col[0]\n",
    "    elif i[0] in big:\n",
    "        if big[i[0]][1] < col[0]:\n",
    "            big[i[0]]=[i[1], i[2],i[3]], col[0]\n",
    "\n",
    "big\n",
    "with open(\"biggest_cities_per_state.json\", \"w\") as outfile: \n",
    "    json.dump(big,outfile )\n",
    "    "
   ]
  },
  {
   "cell_type": "code",
   "execution_count": 8,
   "metadata": {},
   "outputs": [
    {
     "data": {
      "text/plain": [
       "[['Anchorage', -149.90028, 61.21806], 298695.0]"
      ]
     },
     "execution_count": 8,
     "metadata": {},
     "output_type": "execute_result"
    }
   ],
   "source": [
    "cities = json.load(open('biggest_cities_per_state.json'))\n",
    "cities[\"AK\"]"
   ]
  },
  {
   "cell_type": "code",
   "execution_count": 12,
   "metadata": {},
   "outputs": [
    {
     "name": "stdout",
     "output_type": "stream",
     "text": [
      "['Anchorage', -149.90028, 61.21806]\n",
      "['Birmingham', -86.80249, 33.52066]\n",
      "['Little Rock', -92.28959, 34.74648]\n",
      "['Phoenix', -112.07404, 33.44838]\n",
      "['Los Angeles', -118.24368, 34.05223]\n",
      "['Denver', -104.9847, 39.73915]\n",
      "['Bridgeport', -73.18945, 41.17923]\n",
      "['Washington', -77.03637, 38.89511]\n",
      "['Wilmington', -75.54659, 39.74595]\n",
      "['Jacksonville', -81.65565, 30.33218]\n",
      "['Atlanta', -84.38798, 33.749]\n",
      "['Honolulu', -157.85833, 21.30694]\n",
      "['Des Moines', -93.60911, 41.60054]\n",
      "['Boise', -116.20345, 43.6135]\n",
      "['Chicago', -87.65005, 41.85003]\n",
      "['Indianapolis', -86.15804, 39.76838]\n",
      "['Wichita', -97.33754, 37.69224]\n",
      "['Lexington-Fayette', -84.45855, 38.0498]\n",
      "['New Orleans', -90.07507, 29.95465]\n",
      "['Boston', -71.05977, 42.35843]\n",
      "['Baltimore', -76.61219, 39.29038]\n",
      "['Portland', -70.2589, 43.65737]\n",
      "['Detroit', -83.04575, 42.33143]\n",
      "['Minneapolis', -93.26384, 44.97997]\n",
      "['Kansas City', -94.57857, 39.09973]\n",
      "['Jackson', -90.18481, 32.29876]\n",
      "['Billings', -108.50069, 45.78329]\n",
      "['Charlotte', -80.84313, 35.22709]\n",
      "['Fargo', -96.7898, 46.87719]\n",
      "['Omaha', -95.94043, 41.25626]\n",
      "['Manchester', -71.45479, 42.99564]\n",
      "['Newark', -74.17237, 40.73566]\n",
      "['Albuquerque', -106.65114, 35.08449]\n",
      "['Las Vegas', -115.13722, 36.17497]\n",
      "['New York City', -74.00597, 40.71427]\n",
      "['Columbus', -82.99879, 39.96118]\n",
      "['Oklahoma City', -97.51643, 35.46756]\n",
      "['Portland', -122.67621, 45.52345]\n",
      "['Philadelphia', -75.16379, 39.95233]\n",
      "['Providence', -71.41283, 41.82399]\n",
      "['Columbia', -81.03481, 34.00071]\n",
      "['Sioux Falls', -96.70033, 43.54997]\n",
      "['Memphis', -90.04898, 35.14953]\n",
      "['Houston', -95.36327, 29.76328]\n",
      "['Salt Lake City', -111.89105, 40.76078]\n",
      "['Virginia Beach', -75.97799, 36.85293]\n",
      "['Burlington', -73.21207, 44.47588]\n",
      "['Seattle', -122.33207, 47.60621]\n",
      "['Milwaukee', -87.90647, 43.0389]\n",
      "['Charleston', -81.63262, 38.34982]\n",
      "['Cheyenne', -104.82025, 41.13998]\n"
     ]
    }
   ],
   "source": [
    "big_cities_df = pd.DataFrame()\n",
    "for key in cities:\n",
    "    big_cities_df.loc[index,'city'] = cities[key][0][0]\n",
    "    big_cities_df.loc[index,'state'] = key\n",
    "    big_cities_df.loc[index,\"population\"] = cities[key][1]\n",
    "    big_cities_df.loc[index,'lng'] =cities[key][1]\n",
    "    big_cities_df.loc[index,'lat'] =cities[key][1]\n",
    "    print(cities[key][0])\n",
    "    index+=1\n",
    "big_cities_df.to_csv(\"large_cities.csv\")"
   ]
  }
 ],
 "metadata": {
  "anaconda-cloud": {},
  "kernel_info": {
   "name": "python3"
  },
  "kernelspec": {
   "display_name": "PythonData",
   "language": "python",
   "name": "pythondata"
  },
  "language_info": {
   "codemirror_mode": {
    "name": "ipython",
    "version": 3
   },
   "file_extension": ".py",
   "mimetype": "text/x-python",
   "name": "python",
   "nbconvert_exporter": "python",
   "pygments_lexer": "ipython3",
   "version": "3.6.13"
  },
  "latex_envs": {
   "LaTeX_envs_menu_present": true,
   "autoclose": false,
   "autocomplete": true,
   "bibliofile": "biblio.bib",
   "cite_by": "apalike",
   "current_citInitial": 1,
   "eqLabelWithNumbers": true,
   "eqNumInitial": 1,
   "hotkeys": {
    "equation": "Ctrl-E",
    "itemize": "Ctrl-I"
   },
   "labels_anchors": false,
   "latex_user_defs": false,
   "report_style_numbering": false,
   "user_envs_cfg": false
  },
  "nteract": {
   "version": "0.12.3"
  }
 },
 "nbformat": 4,
 "nbformat_minor": 2
}
