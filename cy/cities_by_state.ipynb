{
 "cells": [
  {
   "cell_type": "code",
   "execution_count": 17,
   "metadata": {},
   "outputs": [],
   "source": [
    "import pandas as pd\n",
    "import json\n",
    "import numpy\n",
    "\n",
    "city_json = json.load(open('city_data.json'))\n",
    "\n",
    "\n"
   ]
  },
  {
   "cell_type": "code",
   "execution_count": 18,
   "metadata": {},
   "outputs": [
    {
     "data": {
      "text/plain": [
       "('Minerva Park', 'OH', 1318, [-82.94379, 40.07645])"
      ]
     },
     "execution_count": 18,
     "metadata": {},
     "output_type": "execute_result"
    }
   ],
   "source": [
    "x = (city_json[0]['fields']['name'],\n",
    "    city_json[0]['fields']['admin1_code'],\n",
    "    city_json[0]['fields']['population'],\n",
    "    city_json[0]['geometry']['coordinates'])\n",
    "\n",
    "x"
   ]
  },
  {
   "cell_type": "code",
   "execution_count": 19,
   "metadata": {},
   "outputs": [
    {
     "data": {
      "text/html": [
       "<div>\n",
       "<style scoped>\n",
       "    .dataframe tbody tr th:only-of-type {\n",
       "        vertical-align: middle;\n",
       "    }\n",
       "\n",
       "    .dataframe tbody tr th {\n",
       "        vertical-align: top;\n",
       "    }\n",
       "\n",
       "    .dataframe thead th {\n",
       "        text-align: right;\n",
       "    }\n",
       "</style>\n",
       "<table border=\"1\" class=\"dataframe\">\n",
       "  <thead>\n",
       "    <tr style=\"text-align: right;\">\n",
       "      <th></th>\n",
       "      <th>city</th>\n",
       "      <th>state</th>\n",
       "      <th>population</th>\n",
       "      <th>lng</th>\n",
       "      <th>lat</th>\n",
       "    </tr>\n",
       "  </thead>\n",
       "  <tbody>\n",
       "    <tr>\n",
       "      <th>0</th>\n",
       "      <td>Minerva Park</td>\n",
       "      <td>OH</td>\n",
       "      <td>1318.0</td>\n",
       "      <td>-82.94379</td>\n",
       "      <td>40.07645</td>\n",
       "    </tr>\n",
       "    <tr>\n",
       "      <th>1</th>\n",
       "      <td>Piqua</td>\n",
       "      <td>OH</td>\n",
       "      <td>20790.0</td>\n",
       "      <td>-84.24244</td>\n",
       "      <td>40.14477</td>\n",
       "    </tr>\n",
       "    <tr>\n",
       "      <th>2</th>\n",
       "      <td>Portage Lakes</td>\n",
       "      <td>OH</td>\n",
       "      <td>6968.0</td>\n",
       "      <td>-81.52706</td>\n",
       "      <td>41.00728</td>\n",
       "    </tr>\n",
       "    <tr>\n",
       "      <th>3</th>\n",
       "      <td>Reminderville</td>\n",
       "      <td>OH</td>\n",
       "      <td>3976.0</td>\n",
       "      <td>-81.39511</td>\n",
       "      <td>41.34589</td>\n",
       "    </tr>\n",
       "    <tr>\n",
       "      <th>4</th>\n",
       "      <td>Toronto</td>\n",
       "      <td>OH</td>\n",
       "      <td>4882.0</td>\n",
       "      <td>-80.60091</td>\n",
       "      <td>40.46423</td>\n",
       "    </tr>\n",
       "    <tr>\n",
       "      <th>...</th>\n",
       "      <td>...</td>\n",
       "      <td>...</td>\n",
       "      <td>...</td>\n",
       "      <td>...</td>\n",
       "      <td>...</td>\n",
       "    </tr>\n",
       "    <tr>\n",
       "      <th>16724</th>\n",
       "      <td>Spring Valley Lake</td>\n",
       "      <td>CA</td>\n",
       "      <td>8220.0</td>\n",
       "      <td>-117.26832</td>\n",
       "      <td>34.49364</td>\n",
       "    </tr>\n",
       "    <tr>\n",
       "      <th>16725</th>\n",
       "      <td>Hide-A-Way Lake</td>\n",
       "      <td>MS</td>\n",
       "      <td>1859.0</td>\n",
       "      <td>-89.64020</td>\n",
       "      <td>30.56492</td>\n",
       "    </tr>\n",
       "    <tr>\n",
       "      <th>16726</th>\n",
       "      <td>Woodstock</td>\n",
       "      <td>ME</td>\n",
       "      <td>1263.0</td>\n",
       "      <td>-70.60849</td>\n",
       "      <td>44.37494</td>\n",
       "    </tr>\n",
       "    <tr>\n",
       "      <th>16727</th>\n",
       "      <td>Scotts Mill</td>\n",
       "      <td>NC</td>\n",
       "      <td>2400.0</td>\n",
       "      <td>-78.88390</td>\n",
       "      <td>35.72666</td>\n",
       "    </tr>\n",
       "    <tr>\n",
       "      <th>16728</th>\n",
       "      <td>New Century, KS</td>\n",
       "      <td>KS</td>\n",
       "      <td>1072.0</td>\n",
       "      <td>-94.89971</td>\n",
       "      <td>38.82253</td>\n",
       "    </tr>\n",
       "  </tbody>\n",
       "</table>\n",
       "<p>16729 rows × 5 columns</p>\n",
       "</div>"
      ],
      "text/plain": [
       "                     city state  population        lng       lat\n",
       "0            Minerva Park    OH      1318.0  -82.94379  40.07645\n",
       "1                   Piqua    OH     20790.0  -84.24244  40.14477\n",
       "2           Portage Lakes    OH      6968.0  -81.52706  41.00728\n",
       "3           Reminderville    OH      3976.0  -81.39511  41.34589\n",
       "4                 Toronto    OH      4882.0  -80.60091  40.46423\n",
       "...                   ...   ...         ...        ...       ...\n",
       "16724  Spring Valley Lake    CA      8220.0 -117.26832  34.49364\n",
       "16725     Hide-A-Way Lake    MS      1859.0  -89.64020  30.56492\n",
       "16726           Woodstock    ME      1263.0  -70.60849  44.37494\n",
       "16727         Scotts Mill    NC      2400.0  -78.88390  35.72666\n",
       "16728     New Century, KS    KS      1072.0  -94.89971  38.82253\n",
       "\n",
       "[16729 rows x 5 columns]"
      ]
     },
     "execution_count": 19,
     "metadata": {},
     "output_type": "execute_result"
    }
   ],
   "source": [
    "city_df = pd.DataFrame()\n",
    "index = 0\n",
    "\n",
    "for dictionary in city_json:\n",
    "    city_df.loc[index,'city'] = dictionary['fields']['name']\n",
    "    city_df.loc[index,'state'] = dictionary['fields']['admin1_code']\n",
    "    city_df.loc[index,\"population\"] = dictionary['fields']['population']\n",
    "    city_df.loc[index,'lng'] =(dictionary['geometry']['coordinates'][0])\n",
    "    city_df.loc[index,'lat'] =(dictionary['geometry']['coordinates'][1])\n",
    "    index+=1\n",
    "\n",
    "city_df\n"
   ]
  },
  {
   "cell_type": "code",
   "execution_count": 20,
   "metadata": {},
   "outputs": [],
   "source": [
    "city_df = city_df.groupby(['state','city','lng','lat'])['population'].max()\n"
   ]
  },
  {
   "cell_type": "code",
   "execution_count": 21,
   "metadata": {},
   "outputs": [],
   "source": [
    "qwerty = pd.DataFrame(city_df)\n",
    "big = {}\n",
    "for i, col in qwerty.iterrows():\n",
    "    if i[0] not in big:\n",
    "        big[i[0]]=[i[1], i[2],i[3]], col[0]\n",
    "    elif i[0] in big:\n",
    "        if big[i[0]][1] < col[0]:\n",
    "            big[i[0]]=[i[1], i[2],i[3]], col[0]\n",
    "\n",
    "big\n",
    "with open(\"biggest_cities_per_state.json\", \"w\") as outfile: \n",
    "    json.dump(big,outfile )"
   ]
  },
  {
   "cell_type": "code",
   "execution_count": 22,
   "metadata": {
    "scrolled": true
   },
   "outputs": [
    {
     "data": {
      "text/plain": [
       "{'AK': [['Anchorage', -149.90028, 61.21806], 298695.0],\n",
       " 'AL': [['Birmingham', -86.80249, 33.52066], 212461.0],\n",
       " 'AR': [['Little Rock', -92.28959, 34.74648], 197992.0],\n",
       " 'AZ': [['Phoenix', -112.07404, 33.44838], 1563025.0],\n",
       " 'CA': [['Los Angeles', -118.24368, 34.05223], 3971883.0],\n",
       " 'CO': [['Denver', -104.9847, 39.73915], 682545.0],\n",
       " 'CT': [['Bridgeport', -73.18945, 41.17923], 147629.0],\n",
       " 'DC': [['Washington', -77.03637, 38.89511], 601723.0],\n",
       " 'DE': [['Wilmington', -75.54659, 39.74595], 71948.0],\n",
       " 'FL': [['Jacksonville', -81.65565, 30.33218], 868031.0],\n",
       " 'GA': [['Atlanta', -84.38798, 33.749], 463878.0],\n",
       " 'HI': [['Honolulu', -157.85833, 21.30694], 371657.0],\n",
       " 'IA': [['Des Moines', -93.60911, 41.60054], 210330.0],\n",
       " 'ID': [['Boise', -116.20345, 43.6135], 145987.0],\n",
       " 'IL': [['Chicago', -87.65005, 41.85003], 2720546.0],\n",
       " 'IN': [['Indianapolis', -86.15804, 39.76838], 829718.0],\n",
       " 'KS': [['Wichita', -97.33754, 37.69224], 389965.0],\n",
       " 'KY': [['Lexington-Fayette', -84.45855, 38.0498], 314488.0],\n",
       " 'LA': [['New Orleans', -90.07507, 29.95465], 389617.0],\n",
       " 'MA': [['Boston', -71.05977, 42.35843], 667137.0],\n",
       " 'MD': [['Baltimore', -76.61219, 39.29038], 621849.0],\n",
       " 'ME': [['Portland', -70.2589, 43.65737], 66881.0],\n",
       " 'MI': [['Detroit', -83.04575, 42.33143], 677116.0],\n",
       " 'MN': [['Minneapolis', -93.26384, 44.97997], 410939.0],\n",
       " 'MO': [['Kansas City', -94.57857, 39.09973], 475378.0],\n",
       " 'MS': [['Jackson', -90.18481, 32.29876], 170674.0],\n",
       " 'MT': [['Billings', -108.50069, 45.78329], 110263.0],\n",
       " 'NC': [['Charlotte', -80.84313, 35.22709], 827097.0],\n",
       " 'ND': [['Fargo', -96.7898, 46.87719], 118523.0],\n",
       " 'NE': [['Omaha', -95.94043, 41.25626], 443885.0],\n",
       " 'NH': [['Manchester', -71.45479, 42.99564], 110229.0],\n",
       " 'NJ': [['Newark', -74.17237, 40.73566], 281944.0],\n",
       " 'NM': [['Albuquerque', -106.65114, 35.08449], 559121.0],\n",
       " 'NV': [['Las Vegas', -115.13722, 36.17497], 623747.0],\n",
       " 'NY': [['New York City', -74.00597, 40.71427], 8175133.0],\n",
       " 'OH': [['Columbus', -82.99879, 39.96118], 850106.0],\n",
       " 'OK': [['Oklahoma City', -97.51643, 35.46756], 631346.0],\n",
       " 'OR': [['Portland', -122.67621, 45.52345], 632309.0],\n",
       " 'PA': [['Philadelphia', -75.16379, 39.95233], 1567442.0],\n",
       " 'RI': [['Providence', -71.41283, 41.82399], 179207.0],\n",
       " 'SC': [['Columbia', -81.03481, 34.00071], 133803.0],\n",
       " 'SD': [['Sioux Falls', -96.70033, 43.54997], 171544.0],\n",
       " 'TN': [['Memphis', -90.04898, 35.14953], 655770.0],\n",
       " 'TX': [['Houston', -95.36327, 29.76328], 2296224.0],\n",
       " 'UT': [['Salt Lake City', -111.89105, 40.76078], 192672.0],\n",
       " 'VA': [['Virginia Beach', -75.97799, 36.85293], 452745.0],\n",
       " 'VT': [['Burlington', -73.21207, 44.47588], 42452.0],\n",
       " 'WA': [['Seattle', -122.33207, 47.60621], 684451.0],\n",
       " 'WI': [['Milwaukee', -87.90647, 43.0389], 600155.0],\n",
       " 'WV': [['Charleston', -81.63262, 38.34982], 49736.0],\n",
       " 'WY': [['Cheyenne', -104.82025, 41.13998], 63335.0]}"
      ]
     },
     "execution_count": 22,
     "metadata": {},
     "output_type": "execute_result"
    }
   ],
   "source": [
    "big_city_json = json.load(open(\"biggest_cities_per_state.json\"))\n",
    "big_city_json\n"
   ]
  },
  {
   "cell_type": "code",
   "execution_count": 23,
   "metadata": {},
   "outputs": [
    {
     "data": {
      "text/plain": [
       "('Minerva Park', 'OH', 1318, [-82.94379, 40.07645])"
      ]
     },
     "execution_count": 23,
     "metadata": {},
     "output_type": "execute_result"
    }
   ],
   "source": [
    "x = (city_json[0]['fields']['name'],\n",
    "    city_json[0]['fields']['admin1_code'],\n",
    "    city_json[0]['fields']['population'],\n",
    "    city_json[0]['geometry']['coordinates'])\n",
    "\n",
    "x"
   ]
  },
  {
   "cell_type": "code",
   "execution_count": 24,
   "metadata": {},
   "outputs": [
    {
     "ename": "TypeError",
     "evalue": "string indices must be integers",
     "output_type": "error",
     "traceback": [
      "\u001b[1;31m---------------------------------------------------------------------------\u001b[0m",
      "\u001b[1;31mTypeError\u001b[0m                                 Traceback (most recent call last)",
      "\u001b[1;32m<ipython-input-24-5630e7b1feef>\u001b[0m in \u001b[0;36m<module>\u001b[1;34m\u001b[0m\n\u001b[0;32m      3\u001b[0m \u001b[1;33m\u001b[0m\u001b[0m\n\u001b[0;32m      4\u001b[0m \u001b[1;32mfor\u001b[0m \u001b[0mdictionary\u001b[0m \u001b[1;32min\u001b[0m \u001b[0mbig_city_json\u001b[0m\u001b[1;33m:\u001b[0m\u001b[1;33m\u001b[0m\u001b[1;33m\u001b[0m\u001b[0m\n\u001b[1;32m----> 5\u001b[1;33m     \u001b[0mbig_city_df\u001b[0m\u001b[1;33m.\u001b[0m\u001b[0mloc\u001b[0m\u001b[1;33m[\u001b[0m\u001b[0mindex\u001b[0m\u001b[1;33m,\u001b[0m\u001b[1;34m'city'\u001b[0m\u001b[1;33m]\u001b[0m \u001b[1;33m=\u001b[0m \u001b[0mdictionary\u001b[0m\u001b[1;33m[\u001b[0m\u001b[1;34m'fields'\u001b[0m\u001b[1;33m]\u001b[0m\u001b[1;33m[\u001b[0m\u001b[1;34m'name'\u001b[0m\u001b[1;33m]\u001b[0m\u001b[1;33m\u001b[0m\u001b[1;33m\u001b[0m\u001b[0m\n\u001b[0m\u001b[0;32m      6\u001b[0m     \u001b[0mbig_city_df\u001b[0m\u001b[1;33m.\u001b[0m\u001b[0mloc\u001b[0m\u001b[1;33m[\u001b[0m\u001b[0mindex\u001b[0m\u001b[1;33m,\u001b[0m\u001b[1;34m'state'\u001b[0m\u001b[1;33m]\u001b[0m \u001b[1;33m=\u001b[0m \u001b[0mdictionary\u001b[0m\u001b[1;33m[\u001b[0m\u001b[1;34m'fields'\u001b[0m\u001b[1;33m]\u001b[0m\u001b[1;33m[\u001b[0m\u001b[1;34m'admin1_code'\u001b[0m\u001b[1;33m]\u001b[0m\u001b[1;33m\u001b[0m\u001b[1;33m\u001b[0m\u001b[0m\n\u001b[0;32m      7\u001b[0m     \u001b[0mbig_city_df\u001b[0m\u001b[1;33m.\u001b[0m\u001b[0mloc\u001b[0m\u001b[1;33m[\u001b[0m\u001b[0mindex\u001b[0m\u001b[1;33m,\u001b[0m\u001b[1;34m\"population\"\u001b[0m\u001b[1;33m]\u001b[0m \u001b[1;33m=\u001b[0m \u001b[0mdictionary\u001b[0m\u001b[1;33m[\u001b[0m\u001b[1;34m'fields'\u001b[0m\u001b[1;33m]\u001b[0m\u001b[1;33m[\u001b[0m\u001b[1;34m'population'\u001b[0m\u001b[1;33m]\u001b[0m\u001b[1;33m\u001b[0m\u001b[1;33m\u001b[0m\u001b[0m\n",
      "\u001b[1;31mTypeError\u001b[0m: string indices must be integers"
     ]
    }
   ],
   "source": [
    "\n",
    "big_city_df = pd.DataFrame()\n",
    "index = 0\n",
    "\n",
    "for dictionary in big_city_json:\n",
    "    big_city_df.loc[index,'city'] = dictionary['fields']['name']\n",
    "    big_city_df.loc[index,'state'] = dictionary['fields']['admin1_code']\n",
    "    big_city_df.loc[index,\"population\"] = dictionary['fields']['population']\n",
    "    big_city_df.loc[index,'lng'] =(dictionary['geometry']['coordinates'][0])\n",
    "    big_city_df.loc[index,'lat'] =(dictionary['geometry']['coordinates'][1])\n",
    "    index+=1\n",
    "\n",
    "big_city_df"
   ]
  },
  {
   "cell_type": "code",
   "execution_count": null,
   "metadata": {},
   "outputs": [],
   "source": []
  }
 ],
 "metadata": {
  "anaconda-cloud": {},
  "kernel_info": {
   "name": "python3"
  },
  "kernelspec": {
   "display_name": "Python 3",
   "language": "python",
   "name": "python3"
  },
  "language_info": {
   "codemirror_mode": {
    "name": "ipython",
    "version": 3
   },
   "file_extension": ".py",
   "mimetype": "text/x-python",
   "name": "python",
   "nbconvert_exporter": "python",
   "pygments_lexer": "ipython3",
   "version": "3.8.5"
  },
  "latex_envs": {
   "LaTeX_envs_menu_present": true,
   "autoclose": false,
   "autocomplete": true,
   "bibliofile": "biblio.bib",
   "cite_by": "apalike",
   "current_citInitial": 1,
   "eqLabelWithNumbers": true,
   "eqNumInitial": 1,
   "hotkeys": {
    "equation": "Ctrl-E",
    "itemize": "Ctrl-I"
   },
   "labels_anchors": false,
   "latex_user_defs": false,
   "report_style_numbering": false,
   "user_envs_cfg": false
  },
  "nteract": {
   "version": "0.12.3"
  }
 },
 "nbformat": 4,
 "nbformat_minor": 2
}
