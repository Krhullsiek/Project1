{
 "cells": [
  {
   "cell_type": "code",
   "execution_count": 1,
   "metadata": {},
   "outputs": [],
   "source": [
    "#imports\n",
    "import pandas as pd\n",
    "import json\n",
    "import numpy\n",
    "import requests\n"
   ]
  },
  {
   "cell_type": "code",
   "execution_count": 14,
   "metadata": {},
   "outputs": [
    {
     "data": {
      "text/html": [
       "<div>\n",
       "<style scoped>\n",
       "    .dataframe tbody tr th:only-of-type {\n",
       "        vertical-align: middle;\n",
       "    }\n",
       "\n",
       "    .dataframe tbody tr th {\n",
       "        vertical-align: top;\n",
       "    }\n",
       "\n",
       "    .dataframe thead th {\n",
       "        text-align: right;\n",
       "    }\n",
       "</style>\n",
       "<table border=\"1\" class=\"dataframe\">\n",
       "  <thead>\n",
       "    <tr style=\"text-align: right;\">\n",
       "      <th></th>\n",
       "      <th>0</th>\n",
       "    </tr>\n",
       "  </thead>\n",
       "  <tbody>\n",
       "    <tr>\n",
       "      <th>AK</th>\n",
       "      <td>[[Anchorage, -149.90028, 61.21806], 298695.0]</td>\n",
       "    </tr>\n",
       "    <tr>\n",
       "      <th>AL</th>\n",
       "      <td>[[Birmingham, -86.80249, 33.52066], 212461.0]</td>\n",
       "    </tr>\n",
       "    <tr>\n",
       "      <th>AR</th>\n",
       "      <td>[[Little Rock, -92.28959, 34.74648], 197992.0]</td>\n",
       "    </tr>\n",
       "    <tr>\n",
       "      <th>AZ</th>\n",
       "      <td>[[Phoenix, -112.07404, 33.44838], 1563025.0]</td>\n",
       "    </tr>\n",
       "    <tr>\n",
       "      <th>CA</th>\n",
       "      <td>[[Los Angeles, -118.24368, 34.05223], 3971883.0]</td>\n",
       "    </tr>\n",
       "  </tbody>\n",
       "</table>\n",
       "</div>"
      ],
      "text/plain": [
       "                                                   0\n",
       "AK     [[Anchorage, -149.90028, 61.21806], 298695.0]\n",
       "AL     [[Birmingham, -86.80249, 33.52066], 212461.0]\n",
       "AR    [[Little Rock, -92.28959, 34.74648], 197992.0]\n",
       "AZ      [[Phoenix, -112.07404, 33.44838], 1563025.0]\n",
       "CA  [[Los Angeles, -118.24368, 34.05223], 3971883.0]"
      ]
     },
     "execution_count": 14,
     "metadata": {},
     "output_type": "execute_result"
    }
   ],
   "source": [
    "#import biggest cities data\n",
    "cities_file = 'biggest_cities_per_state.json'\n",
    "with open(cities_file ,'r') as file:\n",
    "    city_data = json.loads(file.read())\n",
    "    \n",
    "#make into dataframe\n",
    "cities_info = pd.json_normalize(city_data).T\n",
    "cities_info.head()"
   ]
  },
  {
   "cell_type": "code",
   "execution_count": 13,
   "metadata": {},
   "outputs": [
    {
     "data": {
      "text/html": [
       "<div>\n",
       "<style scoped>\n",
       "    .dataframe tbody tr th:only-of-type {\n",
       "        vertical-align: middle;\n",
       "    }\n",
       "\n",
       "    .dataframe tbody tr th {\n",
       "        vertical-align: top;\n",
       "    }\n",
       "\n",
       "    .dataframe thead th {\n",
       "        text-align: right;\n",
       "    }\n",
       "</style>\n",
       "<table border=\"1\" class=\"dataframe\">\n",
       "  <thead>\n",
       "    <tr style=\"text-align: right;\">\n",
       "      <th></th>\n",
       "      <th>State</th>\n",
       "      <th>City</th>\n",
       "      <th>Latitude</th>\n",
       "      <th>Longitude</th>\n",
       "      <th>Population</th>\n",
       "    </tr>\n",
       "  </thead>\n",
       "  <tbody>\n",
       "    <tr>\n",
       "      <th>0</th>\n",
       "      <td>AK</td>\n",
       "      <td>Anchorage</td>\n",
       "      <td>61.21806</td>\n",
       "      <td>-149.90028</td>\n",
       "      <td>298695.0</td>\n",
       "    </tr>\n",
       "    <tr>\n",
       "      <th>1</th>\n",
       "      <td>AL</td>\n",
       "      <td>Birmingham</td>\n",
       "      <td>33.52066</td>\n",
       "      <td>-86.80249</td>\n",
       "      <td>212461.0</td>\n",
       "    </tr>\n",
       "    <tr>\n",
       "      <th>2</th>\n",
       "      <td>AR</td>\n",
       "      <td>Little Rock</td>\n",
       "      <td>34.74648</td>\n",
       "      <td>-92.28959</td>\n",
       "      <td>197992.0</td>\n",
       "    </tr>\n",
       "    <tr>\n",
       "      <th>3</th>\n",
       "      <td>AZ</td>\n",
       "      <td>Phoenix</td>\n",
       "      <td>33.44838</td>\n",
       "      <td>-112.07404</td>\n",
       "      <td>1563025.0</td>\n",
       "    </tr>\n",
       "    <tr>\n",
       "      <th>4</th>\n",
       "      <td>CA</td>\n",
       "      <td>Los Angeles</td>\n",
       "      <td>34.05223</td>\n",
       "      <td>-118.24368</td>\n",
       "      <td>3971883.0</td>\n",
       "    </tr>\n",
       "  </tbody>\n",
       "</table>\n",
       "</div>"
      ],
      "text/plain": [
       "  State         City  Latitude  Longitude  Population\n",
       "0    AK    Anchorage  61.21806 -149.90028    298695.0\n",
       "1    AL   Birmingham  33.52066  -86.80249    212461.0\n",
       "2    AR  Little Rock  34.74648  -92.28959    197992.0\n",
       "3    AZ      Phoenix  33.44838 -112.07404   1563025.0\n",
       "4    CA  Los Angeles  34.05223 -118.24368   3971883.0"
      ]
     },
     "execution_count": 13,
     "metadata": {},
     "output_type": "execute_result"
    }
   ],
   "source": [
    "#clean df\n",
    "cities_list = []\n",
    "lng_list = []\n",
    "lat_list = []\n",
    "population_list = []\n",
    "\n",
    "for i in range(51):\n",
    "    population_list.append(cities_info[0][i][1])\n",
    "    cities_list.append(cities_info[0][i][0][0])\n",
    "    lng_list.append(cities_info[0][i][0][1])\n",
    "    lat_list.append(cities_info[0][i][0][2])\n",
    "    \n",
    "cities_info[\"City\"] = cities_list\n",
    "cities_info[\"Latitude\"] = lat_list \n",
    "cities_info[\"Longitude\"] = lng_list\n",
    "cities_info[\"Population\"] = population_list\n",
    "cities_info_clean = cities_info[[\"City\",\"Latitude\",\"Longitude\",\"Population\"]]\n",
    "cities_info_clean = cities_info_clean.reset_index(drop=False)\n",
    "cities_info_clean = cities_info_clean.rename(columns={\"index\":\"State\"})\n",
    "cities_info_clean.head()"
   ]
  },
  {
   "cell_type": "code",
   "execution_count": null,
   "metadata": {},
   "outputs": [],
   "source": []
  }
 ],
 "metadata": {
  "kernelspec": {
   "display_name": "Python 3",
   "language": "python",
   "name": "python3"
  },
  "language_info": {
   "codemirror_mode": {
    "name": "ipython",
    "version": 3
   },
   "file_extension": ".py",
   "mimetype": "text/x-python",
   "name": "python",
   "nbconvert_exporter": "python",
   "pygments_lexer": "ipython3",
   "version": "3.8.5"
  }
 },
 "nbformat": 4,
 "nbformat_minor": 4
}
